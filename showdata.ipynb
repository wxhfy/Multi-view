{
 "cells": [
  {
   "metadata": {
    "ExecuteTime": {
     "end_time": "2024-05-06T07:53:36.628392Z",
     "start_time": "2024-05-06T07:53:34.925323Z"
    }
   },
   "cell_type": "code",
   "source": [
    "from scipy.io import loadmat\n",
    "import h5py\n",
    "import pandas as pd\n",
    "import numpy as np\n",
    "import os\n",
    "#"
   ],
   "id": "ca77bbdb7de9245c",
   "outputs": [],
   "execution_count": 1
  },
  {
   "metadata": {
    "ExecuteTime": {
     "end_time": "2024-05-06T07:53:47.408856Z",
     "start_time": "2024-05-06T07:53:38.489637Z"
    }
   },
   "cell_type": "code",
   "source": [
    "def load_mat_files(directory):\n",
    "    data_dict = {}\n",
    "    for filename in os.listdir(directory):\n",
    "        if filename.endswith('.mat'):\n",
    "            file_path = os.path.join(directory, filename)\n",
    "            try:\n",
    "                # Try to read the .mat file using scipy.io.loadmat\n",
    "                data = loadmat(file_path)\n",
    "                print(f\"File: {filename}, Keys: {list(data.keys())},Type:loadmat\")\n",
    "                data_dict[filename] = data\n",
    "            except OSError:\n",
    "                # If the file is a v7.3 .mat file, read it using h5py\n",
    "                try:\n",
    "                    with h5py.File(file_path, 'r') as f:\n",
    "                        keys = list(f.keys())\n",
    "                        print(f\"File: {filename}, Keys: {keys} Type: h5\")\n",
    "                        data_dict[filename] = {key: f[key][:] for key in keys}\n",
    "                except Exception as e:\n",
    "                    print(f\"Failed to read file {filename} with h5py due to {str(e)}\")\n",
    "            except Exception as e:\n",
    "                print(f\"Failed to read file {filename} with scipy.io.loadmat due to {str(e)}\")\n",
    "    return data_dict\n",
    "\n",
    "# Call the function with the directory containing your .mat files\n",
    "data_dict = load_mat_files('./data_list')"
   ],
   "id": "78c42b6e43ee5a47",
   "outputs": [
    {
     "name": "stdout",
     "output_type": "stream",
     "text": [
      "File: Cora.mat, Keys: ['__header__', '__version__', '__globals__', 'data', 'truelabel'],Type:loadmat\n",
      "File: Reuters.mat, Keys: ['__header__', '__version__', '__globals__', 'data', 'truelabel'],Type:loadmat\n",
      "File: caltech20-2.mat, Keys: ['__header__', '__version__', '__globals__', 'data', 'truelabel'],Type:loadmat\n",
      "File: caltech20.mat, Keys: ['__header__', '__version__', '__globals__', 'data', 'truelabel'],Type:loadmat\n",
      "File: Mfeat.mat, Keys: ['__header__', '__version__', '__globals__', 'data', 'truelabel'],Type:loadmat\n",
      "File: mfeat2.mat, Keys: ['__header__', '__version__', '__globals__', 'data', 'truelabel'],Type:loadmat\n",
      "File: 100Leaves.mat, Keys: ['__header__', '__version__', '__globals__', 'truelabel', 'data'],Type:loadmat\n",
      "File: flowers17.mat, Keys: ['__header__', '__version__', '__globals__', 'data', 'truelabel'],Type:loadmat\n",
      "File: MSRC.mat, Keys: ['__header__', '__version__', '__globals__', 'data', 'truelabel'],Type:loadmat\n",
      "Failed to read file animal.mat with scipy.io.loadmat due to Unknown mat file type, version 150, 122\n",
      "File: HW.mat, Keys: ['__header__', '__version__', '__globals__', 'data', 'truelabel'],Type:loadmat\n",
      "File: Yale.mat, Keys: ['__header__', '__version__', '__globals__', 'data', 'truelabel'],Type:loadmat\n"
     ]
    }
   ],
   "execution_count": 2
  },
  {
   "metadata": {
    "ExecuteTime": {
     "end_time": "2024-05-03T07:28:22.214117Z",
     "start_time": "2024-05-03T07:28:22.144325Z"
    }
   },
   "cell_type": "code",
   "source": [
    "data = loadmat(\"./data/HW.mat\")\n",
    "data.keys()"
   ],
   "id": "519738f8c9510887",
   "outputs": [
    {
     "data": {
      "text/plain": [
       "dict_keys(['__header__', '__version__', '__globals__', 'data', 'truelabel'])"
      ]
     },
     "execution_count": 3,
     "metadata": {},
     "output_type": "execute_result"
    }
   ],
   "execution_count": 3
  },
  {
   "metadata": {
    "ExecuteTime": {
     "end_time": "2024-05-03T07:28:50.886315Z",
     "start_time": "2024-05-03T07:28:50.878700Z"
    }
   },
   "cell_type": "code",
   "source": [
    "print(data[\"data\"].shape)\n",
    "print(data[\"truelabel\"].shape)\n",
    "print(data[\"data\"][0][0].shape)\n",
    "print(data[\"data\"][0][1].shape)\n",
    "print(data[\"truelabel\"][0][0].shape)\n",
    "print((data[\"truelabel\"][0][0] == data[\"truelabel\"][0][1]).all())\n",
    "print(len(np.unique(data[\"truelabel\"][0][0])))"
   ],
   "id": "a4e602c7663882e6",
   "outputs": [
    {
     "name": "stdout",
     "output_type": "stream",
     "text": [
      "(1, 2)\n",
      "(1, 2)\n",
      "(784, 10000)\n",
      "(256, 10000)\n",
      "(10000, 1)\n",
      "True\n",
      "10\n"
     ]
    }
   ],
   "execution_count": 5
  },
  {
   "metadata": {
    "ExecuteTime": {
     "end_time": "2024-05-01T16:21:49.428484Z",
     "start_time": "2024-05-01T16:21:49.409079Z"
    }
   },
   "cell_type": "code",
   "source": [
    "data = loadmat(\"./autodl-tmp/data1/100Leaves.mat\")\n",
    "data.keys()"
   ],
   "id": "236a7bc515e3bcb8",
   "outputs": [
    {
     "data": {
      "text/plain": [
       "dict_keys(['__header__', '__version__', '__globals__', 'truelabel', 'data'])"
      ]
     },
     "execution_count": 4,
     "metadata": {},
     "output_type": "execute_result"
    }
   ],
   "execution_count": 4
  },
  {
   "metadata": {
    "ExecuteTime": {
     "end_time": "2024-05-01T16:12:06.278827Z",
     "start_time": "2024-05-01T16:12:06.269777Z"
    }
   },
   "cell_type": "code",
   "source": [
    "print(data[\"data\"].shape)\n",
    "print(data[\"truelabel\"].shape)\n",
    "print(data[\"data\"][0][0].shape)\n",
    "print(data[\"data\"][0][1].shape)\n",
    "print(data[\"data\"][0][2].shape)\n",
    "print(data[\"truelabel\"][0][0].shape)\n",
    "print((data[\"truelabel\"][0][0] == data[\"truelabel\"][0][1]).all())\n",
    "print(len(np.unique(data[\"truelabel\"][0][0])))"
   ],
   "id": "4e1fa2f18059a41c",
   "outputs": [
    {
     "name": "stdout",
     "output_type": "stream",
     "text": [
      "(1, 3)\n",
      "(1, 3)\n",
      "(64, 1600)\n",
      "(64, 1600)\n",
      "(64, 1600)\n",
      "(1600, 1)\n",
      "True\n",
      "100\n"
     ]
    }
   ],
   "execution_count": 4
  },
  {
   "metadata": {
    "ExecuteTime": {
     "end_time": "2024-05-01T16:21:52.716241Z",
     "start_time": "2024-05-01T16:21:52.706118Z"
    }
   },
   "cell_type": "code",
   "source": [
    "data = loadmat(\"./autodl-tmp/data1/Cora.mat\")\n",
    "data.keys()"
   ],
   "id": "3afff9de440be7d0",
   "outputs": [
    {
     "data": {
      "text/plain": [
       "dict_keys(['__header__', '__version__', '__globals__', 'data', 'truelabel'])"
      ]
     },
     "execution_count": 5,
     "metadata": {},
     "output_type": "execute_result"
    }
   ],
   "execution_count": 5
  },
  {
   "metadata": {
    "ExecuteTime": {
     "end_time": "2024-05-01T16:23:05.911465Z",
     "start_time": "2024-05-01T16:23:05.836099Z"
    }
   },
   "cell_type": "code",
   "source": [
    "print(data[\"data\"].shape)\n",
    "print(data[\"truelabel\"].shape)\n",
    "print(data[\"data\"][0][0].shape)\n",
    "print(data[\"data\"][1][0].shape)\n",
    "print(data[\"data\"][2][0].shape)\n",
    "print(data[\"data\"][3][0].shape)\n",
    "print(data[\"truelabel\"][0][0].shape)\n",
    "# print((data[\"truelabel\"][0][0] == data[\"truelabel\"][0][1]).all())\n",
    "print(len(np.unique(data[\"truelabel\"][0][0])))"
   ],
   "id": "bca2c0b04db4e3f",
   "outputs": [
    {
     "name": "stdout",
     "output_type": "stream",
     "text": [
      "(4, 1)\n",
      "(1, 4)\n",
      "(2708, 2708)\n",
      "(1433, 2708)\n",
      "(2708, 2708)\n",
      "(2708, 2708)\n",
      "(2708, 1)\n",
      "7\n"
     ]
    }
   ],
   "execution_count": 10
  },
  {
   "metadata": {
    "ExecuteTime": {
     "end_time": "2024-05-01T16:46:12.135887Z",
     "start_time": "2024-05-01T16:46:11.802308Z"
    }
   },
   "cell_type": "code",
   "source": [
    "data = loadmat(\"./autodl-tmp/data1/Yale.mat\")\n",
    "data.keys()"
   ],
   "id": "2561219752c61320",
   "outputs": [
    {
     "data": {
      "text/plain": [
       "dict_keys(['__header__', '__version__', '__globals__', 'data', 'truelabel'])"
      ]
     },
     "execution_count": 2,
     "metadata": {},
     "output_type": "execute_result"
    }
   ],
   "execution_count": 2
  },
  {
   "metadata": {
    "ExecuteTime": {
     "end_time": "2024-05-01T16:25:44.715871Z",
     "start_time": "2024-05-01T16:25:44.706213Z"
    }
   },
   "cell_type": "code",
   "source": [
    "print(data[\"data\"].shape)\n",
    "print(data[\"truelabel\"].shape)\n",
    "print(data[\"data\"][0][0].shape)\n",
    "print(data[\"data\"][0][1].shape)\n",
    "print(data[\"data\"][0][2].shape)\n",
    "print(data[\"truelabel\"][0][0].shape)\n",
    "print((data[\"truelabel\"][0][0] == data[\"truelabel\"][0][1]).all())\n",
    "print(len(np.unique(data[\"truelabel\"][0][0])))"
   ],
   "id": "deff9ae4b399b29b",
   "outputs": [
    {
     "name": "stdout",
     "output_type": "stream",
     "text": [
      "(1, 3)\n",
      "(1, 3)\n",
      "(4096, 165)\n",
      "(3304, 165)\n",
      "(6750, 165)\n",
      "(165, 1)\n",
      "True\n",
      "15\n"
     ]
    }
   ],
   "execution_count": 19
  },
  {
   "metadata": {
    "ExecuteTime": {
     "end_time": "2024-05-01T16:27:08.426097Z",
     "start_time": "2024-05-01T16:27:07.720428Z"
    }
   },
   "cell_type": "code",
   "source": [
    "data = loadmat(\"./autodl-tmp/data1/caltech20.mat\")\n",
    "data.keys()"
   ],
   "id": "3fe099dcb01c6190",
   "outputs": [
    {
     "data": {
      "text/plain": [
       "dict_keys(['__header__', '__version__', '__globals__', 'data', 'truelabel'])"
      ]
     },
     "execution_count": 21,
     "metadata": {},
     "output_type": "execute_result"
    }
   ],
   "execution_count": 21
  },
  {
   "metadata": {
    "ExecuteTime": {
     "end_time": "2024-05-01T16:27:45.009680Z",
     "start_time": "2024-05-01T16:27:44.937809Z"
    }
   },
   "cell_type": "code",
   "source": [
    "print(data[\"data\"].shape)\n",
    "print(data[\"truelabel\"].shape)\n",
    "print(data[\"data\"][0][0].shape)\n",
    "print(data[\"data\"][1][0].shape)\n",
    "print(data[\"truelabel\"][0][0].shape)\n",
    "print((data[\"truelabel\"][0][0] == data[\"truelabel\"][0][1]).all())\n",
    "print(len(np.unique(data[\"truelabel\"][0][0])))"
   ],
   "id": "3c1578b3856e172b",
   "outputs": [
    {
     "name": "stdout",
     "output_type": "stream",
     "text": [
      "(2, 1)\n",
      "(1, 2)\n",
      "(1984, 2386)\n",
      "(512, 2386)\n",
      "(2386, 1)\n",
      "True\n",
      "20\n"
     ]
    }
   ],
   "execution_count": 25
  },
  {
   "metadata": {
    "ExecuteTime": {
     "end_time": "2024-05-01T16:51:56.531861Z",
     "start_time": "2024-05-01T16:51:55.516219Z"
    }
   },
   "cell_type": "code",
   "source": [
    "data = loadmat(\"./autodl-tmp/data1/caltech20-2.mat\")\n",
    "data.keys()"
   ],
   "id": "e83610d4401b96c1",
   "outputs": [
    {
     "data": {
      "text/plain": [
       "dict_keys(['__header__', '__version__', '__globals__', 'data', 'truelabel'])"
      ]
     },
     "execution_count": 6,
     "metadata": {},
     "output_type": "execute_result"
    }
   ],
   "execution_count": 6
  },
  {
   "metadata": {
    "ExecuteTime": {
     "end_time": "2024-05-01T16:52:16.912125Z",
     "start_time": "2024-05-01T16:52:16.906475Z"
    }
   },
   "cell_type": "code",
   "source": [
    "print(data[\"data\"].shape)\n",
    "print(data[\"truelabel\"].shape)"
   ],
   "id": "f8409ee1f859627b",
   "outputs": [
    {
     "name": "stdout",
     "output_type": "stream",
     "text": [
      "(6, 1)\n",
      "(1, 6)\n"
     ]
    }
   ],
   "execution_count": 8
  },
  {
   "metadata": {
    "ExecuteTime": {
     "end_time": "2024-05-01T16:55:07.122376Z",
     "start_time": "2024-05-01T16:55:07.112174Z"
    }
   },
   "cell_type": "code",
   "source": [
    "result = []\n",
    "for i in range(max(data[\"data\"].shape[0], data[\"data\"].shape[1])):\n",
    "    try:\n",
    "        result.append(data[\"data\"][i][0].shape)\n",
    "    except:\n",
    "        result.append(data[\"data\"][0][i].shape)\n",
    "print([i[0] for i in result])\n",
    "print(data[\"truelabel\"][0][0].shape)\n",
    "print((data[\"truelabel\"][0][0] == data[\"truelabel\"][0][1]).all())\n",
    "print(len(np.unique(data[\"truelabel\"][0][0])))"
   ],
   "id": "85d1db3ba88e3ec5",
   "outputs": [
    {
     "name": "stdout",
     "output_type": "stream",
     "text": [
      "[48, 40, 254, 1984, 512, 928]\n",
      "(2386, 1)\n",
      "True\n",
      "20\n"
     ]
    }
   ],
   "execution_count": 13
  },
  {
   "metadata": {
    "ExecuteTime": {
     "end_time": "2024-05-06T04:39:47.325345Z",
     "start_time": "2024-05-06T04:39:47.276037Z"
    }
   },
   "cell_type": "code",
   "source": [
    "data = loadmat(\"./data_list/Mfeat.mat\")\n",
    "data.keys()"
   ],
   "id": "52af7d1960a2c488",
   "outputs": [
    {
     "data": {
      "text/plain": [
       "dict_keys(['__header__', '__version__', '__globals__', 'data', 'truelabel'])"
      ]
     },
     "execution_count": 8,
     "metadata": {},
     "output_type": "execute_result"
    }
   ],
   "execution_count": 8
  },
  {
   "metadata": {
    "ExecuteTime": {
     "end_time": "2024-05-06T04:39:50.298016Z",
     "start_time": "2024-05-06T04:39:50.293075Z"
    }
   },
   "cell_type": "code",
   "source": [
    "print(data[\"data\"].shape)\n",
    "print(data[\"truelabel\"].shape)"
   ],
   "id": "6a78c9259be0bd17",
   "outputs": [
    {
     "name": "stdout",
     "output_type": "stream",
     "text": [
      "(1, 2)\n",
      "(1, 2)\n"
     ]
    }
   ],
   "execution_count": 9
  },
  {
   "metadata": {
    "ExecuteTime": {
     "end_time": "2024-05-01T16:57:30.715957Z",
     "start_time": "2024-05-01T16:57:30.707409Z"
    }
   },
   "cell_type": "code",
   "source": [
    "result = []\n",
    "for i in range(max(data[\"data\"].shape[0], data[\"data\"].shape[1])):\n",
    "    try:\n",
    "        result.append(data[\"data\"][i][0].shape)\n",
    "    except:\n",
    "        result.append(data[\"data\"][0][i].shape)\n",
    "print([i[0] for i in result])\n",
    "print([i[1] for i in result])\n",
    "print(data[\"truelabel\"][0][0].shape)\n",
    "print((data[\"truelabel\"][0][0] == data[\"truelabel\"][0][1]).all())\n",
    "print(len(np.unique(data[\"truelabel\"][0][0])))"
   ],
   "id": "7b9e441c62ab21c1",
   "outputs": [
    {
     "name": "stdout",
     "output_type": "stream",
     "text": [
      "[784, 256]\n",
      "[10000, 10000]\n",
      "(1, 10000)\n",
      "True\n",
      "10\n"
     ]
    }
   ],
   "execution_count": 18
  },
  {
   "metadata": {
    "ExecuteTime": {
     "end_time": "2024-05-06T04:40:21.001479Z",
     "start_time": "2024-05-06T04:40:20.985245Z"
    }
   },
   "cell_type": "code",
   "source": [
    "data = loadmat(\"./data_list/mfeat2.mat\")\n",
    "data.keys()"
   ],
   "id": "20ee4a2e1ca96379",
   "outputs": [
    {
     "data": {
      "text/plain": [
       "dict_keys(['__header__', '__version__', '__globals__', 'data', 'truelabel'])"
      ]
     },
     "execution_count": 11,
     "metadata": {},
     "output_type": "execute_result"
    }
   ],
   "execution_count": 11
  },
  {
   "metadata": {
    "ExecuteTime": {
     "end_time": "2024-05-02T01:06:52.641242Z",
     "start_time": "2024-05-02T01:06:52.635532Z"
    }
   },
   "cell_type": "code",
   "source": [
    "print(data[\"data\"].shape)\n",
    "print(data[\"truelabel\"].shape)"
   ],
   "id": "6f19307efb5137f4",
   "outputs": [
    {
     "name": "stdout",
     "output_type": "stream",
     "text": [
      "(1, 2)\n",
      "(1, 2)\n"
     ]
    }
   ],
   "execution_count": 5
  },
  {
   "metadata": {
    "ExecuteTime": {
     "end_time": "2024-05-02T01:07:02.683933Z",
     "start_time": "2024-05-02T01:07:02.672136Z"
    }
   },
   "cell_type": "code",
   "source": [
    "result = []\n",
    "for i in range(max(data[\"data\"].shape[0], data[\"data\"].shape[1])):\n",
    "    try:\n",
    "        result.append(data[\"data\"][i][0].shape)\n",
    "    except:\n",
    "        result.append(data[\"data\"][0][i].shape)\n",
    "print([i[0] for i in result])\n",
    "print([i[1] for i in result])\n",
    "print(data[\"truelabel\"][0][0].shape)\n",
    "print((data[\"truelabel\"][0][0] == data[\"truelabel\"][0][1]).all())\n",
    "print(len(np.unique(data[\"truelabel\"][0][0])))"
   ],
   "id": "83815eb9715dfa43",
   "outputs": [
    {
     "name": "stdout",
     "output_type": "stream",
     "text": [
      "[76, 240]\n",
      "[2000, 2000]\n",
      "(2000, 1)\n",
      "True\n",
      "10\n"
     ]
    }
   ],
   "execution_count": 6
  },
  {
   "metadata": {
    "ExecuteTime": {
     "end_time": "2024-05-02T01:08:06.906866Z",
     "start_time": "2024-05-02T01:08:06.850640Z"
    }
   },
   "cell_type": "code",
   "source": [
    "data = loadmat(\"./autodl-tmp/data1/MSRC.mat\")\n",
    "data.keys()"
   ],
   "id": "261dadb254e3000d",
   "outputs": [
    {
     "data": {
      "text/plain": [
       "dict_keys(['__header__', '__version__', '__globals__', 'data', 'truelabel'])"
      ]
     },
     "execution_count": 7,
     "metadata": {},
     "output_type": "execute_result"
    }
   ],
   "execution_count": 7
  },
  {
   "metadata": {
    "ExecuteTime": {
     "end_time": "2024-05-02T01:08:12.526165Z",
     "start_time": "2024-05-02T01:08:12.521526Z"
    }
   },
   "cell_type": "code",
   "source": [
    "print(data[\"data\"].shape)\n",
    "print(data[\"truelabel\"].shape)"
   ],
   "id": "ce194f2e37eb0b77",
   "outputs": [
    {
     "name": "stdout",
     "output_type": "stream",
     "text": [
      "(1, 5)\n",
      "(1, 5)\n"
     ]
    }
   ],
   "execution_count": 8
  },
  {
   "metadata": {
    "ExecuteTime": {
     "end_time": "2024-05-02T01:08:17.516175Z",
     "start_time": "2024-05-02T01:08:17.509545Z"
    }
   },
   "cell_type": "code",
   "source": [
    "result = []\n",
    "for i in range(max(data[\"data\"].shape[0], data[\"data\"].shape[1])):\n",
    "    try:\n",
    "        result.append(data[\"data\"][i][0].shape)\n",
    "    except:\n",
    "        result.append(data[\"data\"][0][i].shape)\n",
    "print([i[0] for i in result])\n",
    "\n",
    "print([i[1] for i in result])\n",
    "print(data[\"truelabel\"][0][0].shape)\n",
    "print((data[\"truelabel\"][0][0] == data[\"truelabel\"][0][1]).all())\n",
    "print(len(np.unique(data[\"truelabel\"][0][0])))"
   ],
   "id": "425fb5b21688d1ef",
   "outputs": [
    {
     "name": "stdout",
     "output_type": "stream",
     "text": [
      "[24, 576, 512, 256, 254]\n",
      "[210, 210, 210, 210, 210]\n",
      "(210, 1)\n",
      "True\n",
      "7\n"
     ]
    }
   ],
   "execution_count": 9
  },
  {
   "metadata": {
    "ExecuteTime": {
     "end_time": "2024-05-02T01:10:01.140381Z",
     "start_time": "2024-05-02T01:09:51.406292Z"
    }
   },
   "cell_type": "code",
   "source": [
    "data = loadmat(\"./autodl-tmp/data1/Reuters.mat\")\n",
    "data.keys()"
   ],
   "id": "3495a3310095d36e",
   "outputs": [
    {
     "data": {
      "text/plain": [
       "dict_keys(['__header__', '__version__', '__globals__', 'data', 'truelabel'])"
      ]
     },
     "execution_count": 10,
     "metadata": {},
     "output_type": "execute_result"
    }
   ],
   "execution_count": 10
  },
  {
   "metadata": {
    "ExecuteTime": {
     "end_time": "2024-05-02T01:10:07.551055Z",
     "start_time": "2024-05-02T01:10:07.545149Z"
    }
   },
   "cell_type": "code",
   "source": [
    "print(data[\"data\"].shape)\n",
    "print(data[\"truelabel\"].shape)"
   ],
   "id": "83aab987c36ac2fc",
   "outputs": [
    {
     "name": "stdout",
     "output_type": "stream",
     "text": [
      "(1, 5)\n",
      "(1, 5)\n"
     ]
    }
   ],
   "execution_count": 11
  },
  {
   "metadata": {
    "ExecuteTime": {
     "end_time": "2024-05-02T01:10:12.712983Z",
     "start_time": "2024-05-02T01:10:12.706335Z"
    }
   },
   "cell_type": "code",
   "source": [
    "result = []\n",
    "for i in range(max(data[\"data\"].shape[0], data[\"data\"].shape[1])):\n",
    "    try:\n",
    "        result.append(data[\"data\"][i][0].shape)\n",
    "    except:\n",
    "        result.append(data[\"data\"][0][i].shape)\n",
    "print([i[0] for i in result])\n",
    "\n",
    "print([i[1] for i in result])\n",
    "print(data[\"truelabel\"][0][0].shape)\n",
    "print((data[\"truelabel\"][0][0] == data[\"truelabel\"][0][1]).all())\n",
    "print(len(np.unique(data[\"truelabel\"][0][0])))"
   ],
   "id": "f555c5bf320d8ce1",
   "outputs": [
    {
     "name": "stdout",
     "output_type": "stream",
     "text": [
      "[4819, 4810, 4892, 4858, 4777]\n",
      "[7200, 7200, 7200, 7200, 7200]\n",
      "(7200, 1)\n",
      "True\n",
      "6\n"
     ]
    }
   ],
   "execution_count": 12
  },
  {
   "metadata": {
    "ExecuteTime": {
     "end_time": "2024-05-02T01:11:06.818668Z",
     "start_time": "2024-05-02T01:11:04.743920Z"
    }
   },
   "cell_type": "code",
   "source": [
    "data = loadmat(\"./autodl-tmp/data1/flowers17.mat\")\n",
    "data.keys()"
   ],
   "id": "2e2668233f10bed4",
   "outputs": [
    {
     "data": {
      "text/plain": [
       "dict_keys(['__header__', '__version__', '__globals__', 'data', 'truelabel'])"
      ]
     },
     "execution_count": 13,
     "metadata": {},
     "output_type": "execute_result"
    }
   ],
   "execution_count": 13
  },
  {
   "metadata": {
    "ExecuteTime": {
     "end_time": "2024-05-02T01:11:12.907306Z",
     "start_time": "2024-05-02T01:11:12.887856Z"
    }
   },
   "cell_type": "code",
   "source": [
    "print(data[\"data\"].shape)\n",
    "print(data[\"truelabel\"].shape)"
   ],
   "id": "4af51f06c9a513d8",
   "outputs": [
    {
     "name": "stdout",
     "output_type": "stream",
     "text": [
      "(1, 7)\n",
      "(1, 7)\n"
     ]
    }
   ],
   "execution_count": 14
  },
  {
   "metadata": {
    "ExecuteTime": {
     "end_time": "2024-05-02T01:11:17.015015Z",
     "start_time": "2024-05-02T01:11:16.983933Z"
    }
   },
   "cell_type": "code",
   "source": [
    "result = []\n",
    "for i in range(max(data[\"data\"].shape[0], data[\"data\"].shape[1])):\n",
    "    try:\n",
    "        result.append(data[\"data\"][i][0].shape)\n",
    "    except:\n",
    "        result.append(data[\"data\"][0][i].shape)\n",
    "print([i[0] for i in result])\n",
    "\n",
    "print([i[1] for i in result])\n",
    "print(data[\"truelabel\"][0][0].shape)\n",
    "print((data[\"truelabel\"][0][0] == data[\"truelabel\"][0][1]).all())\n",
    "print(len(np.unique(data[\"truelabel\"][0][0])))"
   ],
   "id": "23e142a7dde2403a",
   "outputs": [
    {
     "name": "stdout",
     "output_type": "stream",
     "text": [
      "[1360, 1360, 1360, 1360, 1360, 1360, 1360]\n",
      "[1360, 1360, 1360, 1360, 1360, 1360, 1360]\n",
      "(1360, 1)\n",
      "True\n",
      "17\n"
     ]
    }
   ],
   "execution_count": 15
  },
  {
   "metadata": {},
   "cell_type": "markdown",
   "source": "",
   "id": "a1e1e15033cfc26f"
  },
  {
   "metadata": {},
   "cell_type": "code",
   "outputs": [],
   "execution_count": null,
   "source": "",
   "id": "d1b941756f98f198"
  }
 ],
 "metadata": {
  "kernelspec": {
   "display_name": "Python 3",
   "language": "python",
   "name": "python3"
  },
  "language_info": {
   "codemirror_mode": {
    "name": "ipython",
    "version": 2
   },
   "file_extension": ".py",
   "mimetype": "text/x-python",
   "name": "python",
   "nbconvert_exporter": "python",
   "pygments_lexer": "ipython2",
   "version": "2.7.6"
  }
 },
 "nbformat": 4,
 "nbformat_minor": 5
}
